{
 "cells": [
  {
   "cell_type": "code",
   "execution_count": null,
   "metadata": {},
   "outputs": [],
   "source": [
    "from src.Models.DSOD import DSOD\n",
    "from src.Functions.Loss import MultiboxLoss\n",
    "from src.Functions.BBox import *\n",
    "from src.Functions.Generators import *"
   ]
  },
  {
   "cell_type": "code",
   "execution_count": null,
   "metadata": {},
   "outputs": [],
   "source": [
    "import pickle as pk\n",
    "import keras\n",
    "classes = 21\n",
    "priors = pk.load(open('./priorboxes_300.ple', \"rb\"))\n",
    "utils = BBoxUtility(classes, priors, 0.5, 0.45)\n",
    "\n",
    "path = \"../VOC2007\" # change to your own path\n",
    "\n",
    "checkpoint = keras.callbacks.ModelCheckpoint('./TEMP.wt',\n",
    "                                             period=5,\n",
    "                                             save_weights_only=True)\n",
    "callbacks = [checkpoint]\n",
    "\n",
    "transponder = Yielder(path + \"/JPEGImages/\", path + \"/Annotations/\",\n",
    "                          (300, 300, 3), 32, utils, classes=VOC2007MAP, end=4800)\n",
    "\n",
    "confrimer = Yielder(path + \"/JPEGImages/\", path + \"/Annotations/\",\n",
    "                          (300, 300, 3), 32, utils, classes=VOC2007MAP, start=4800)"
   ]
  },
  {
   "cell_type": "code",
   "execution_count": null,
   "metadata": {},
   "outputs": [],
   "source": [
    "model = DSOD()\n",
    "optim = keras.optimizers.Adam(lr=0.1)\n",
    "model.compile(optimizer=optim, loss=MultiboxLoss(classes).compute_loss)\n",
    "\n",
    "epoch = 50\n",
    "\n",
    "tg, cg = transponder.generate(), confrimer.generate()\n",
    "history = model.fit_generator(tg, epochs=epoch, steps_per_epoch=4800 // 32, nb_val_samples=329 // 32,\n",
    "                              nb_worker=1, use_multiprocessing=False, callbacks=callbacks,\n",
    "                              validation_data=cg, verbose=1)"
   ]
  },
  {
   "cell_type": "code",
   "execution_count": null,
   "metadata": {},
   "outputs": [],
   "source": []
  }
 ],
 "metadata": {
  "kernelspec": {
   "display_name": "Python [default]",
   "language": "python",
   "name": "python3"
  },
  "language_info": {
   "codemirror_mode": {
    "name": "ipython",
    "version": 3
   },
   "file_extension": ".py",
   "mimetype": "text/x-python",
   "name": "python",
   "nbconvert_exporter": "python",
   "pygments_lexer": "ipython3",
   "version": "3.5.6"
  },
  "pycharm": {
   "stem_cell": {
    "cell_type": "raw",
    "source": [],
    "metadata": {
     "collapsed": false
    }
   }
  }
 },
 "nbformat": 4,
 "nbformat_minor": 4
}